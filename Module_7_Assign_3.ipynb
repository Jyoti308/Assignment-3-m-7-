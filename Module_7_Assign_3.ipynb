{
  "nbformat": 4,
  "nbformat_minor": 0,
  "metadata": {
    "colab": {
      "provenance": []
    },
    "kernelspec": {
      "name": "python3",
      "display_name": "Python 3"
    },
    "language_info": {
      "name": "python"
    }
  },
  "cells": [
    {
      "cell_type": "markdown",
      "source": [
        "#Course Title--Data Analytics\n",
        "#Module-7\n",
        "#Assignment related to OOPS"
      ],
      "metadata": {
        "id": "5-MtntesRkeM"
      }
    },
    {
      "cell_type": "markdown",
      "source": [
        "**Question-1**\n",
        "\n",
        "What are the five key concepts of Object-Oriented Programming(OOP)?"
      ],
      "metadata": {
        "id": "ydM91NWTR2vF"
      }
    },
    {
      "cell_type": "markdown",
      "source": [
        "Answer--The five key concepts of OOPS are:-\n",
        "\n",
        "1) class in Python\n",
        "\n",
        "2) Objects in Python\n",
        "\n",
        "3) Polymorphism in Python\n",
        "\n",
        "4) Encapsulation in Python\n",
        "\n",
        "5) Inheritance in Python\n",
        "\n",
        "6) Data Abstraction in Python"
      ],
      "metadata": {
        "id": "Bp2B13yiSGij"
      }
    },
    {
      "cell_type": "markdown",
      "source": [
        "**Question-2**\n",
        "\n",
        "Write a Python class for a 'Car' with attributes for'make,'model' and 'year'. include a method to display the car's information."
      ],
      "metadata": {
        "id": "sSnkStmPSfez"
      }
    },
    {
      "cell_type": "code",
      "source": [
        "class My_car:\n",
        "  def _init_(self,make, model, year):\n",
        "  #initialization process\n",
        "             self.make=Toyota\n",
        "             self.model=Model3\n",
        "             self.year=2020\n",
        "             self.is_running=False\n",
        "  def Start(self):\n",
        "    if not self.is_running:\n",
        "             self.is_running=True\n",
        "             print(f\"The{self.make}{self.model}has started\")\n",
        "    else:\n",
        "             print(f\"The{self.make}{self.model}is already running\")\n",
        "  def Stop(self):\n",
        "    if self.is_running:\n",
        "             self.is_running=False\n",
        "             print(f\"The{self.make}{self.model}has stopped\")\n",
        "    else:\n",
        "             print(f\"The{self.make}{self.model}is already stopped\")\n",
        "  def display_info(self):\n",
        "    \"\"\"Display information about the Car\"\"\"\n",
        "    print(f\"Car information:{self.year}{self.model}{self.method}\")\n",
        "\n",
        "    My_car.display_info()"
      ],
      "metadata": {
        "id": "rffbBnBaTtN7"
      },
      "execution_count": null,
      "outputs": []
    },
    {
      "cell_type": "markdown",
      "source": [
        "**Question-3**\n",
        "\n",
        "Explain the difference between instance methods and class methods. Provide an example of each."
      ],
      "metadata": {
        "id": "-Vegi0tSWYcz"
      }
    },
    {
      "cell_type": "markdown",
      "source": [
        "Answer--\n",
        "\n",
        "**Class Method in Python-**\n",
        "\n",
        "Defination-- This method is associated with the class rather than instances.They are defined using the @classmethod decorator and take the class itself as the first parameter.\n",
        "\n",
        "Syntax used\n",
        "\n",
        "class C(object):\n",
        "\n",
        "     @classmethod\n",
        "\n",
        "     def fun(cls,arg1,arg2,...):\n"
      ],
      "metadata": {
        "id": "zNuaQzo4Wly6"
      }
    },
    {
      "cell_type": "code",
      "source": [
        "##example of class method\n",
        "class Student:\n",
        "  marks=0\n",
        "\n",
        "  def compute_marks(cls,obtained_marks):\n",
        "    cls.marks= obtained_marks\n",
        "    print('obtained Marks:',cls.marks)\n",
        "\n",
        "#converst compute_marks() to class method\n",
        "Student.print_marks=classmethod(Student.compute_marks)\n",
        "Student.print_marks(88)\n"
      ],
      "metadata": {
        "colab": {
          "base_uri": "https://localhost:8080/"
        },
        "id": "LUJ2IOVsFfzX",
        "outputId": "6faf2475-e46c-4f6f-9809-470724f954ab"
      },
      "execution_count": 1,
      "outputs": [
        {
          "output_type": "stream",
          "name": "stdout",
          "text": [
            "obtained Marks: 88\n"
          ]
        }
      ]
    },
    {
      "cell_type": "markdown",
      "source": [
        "**Instance Method in python**\n",
        "\n",
        "Defination-this method is most common in Python classes. They are associated with instances of a class and operate on the instance's data. the method first parameter is named self,which refers to the instance calling the method. This allows method to access and manipulate the instance's attributes.\n",
        "\n",
        "\n",
        "Syntax instance method\n",
        "\n",
        "class Myclass:\n",
        "def instance_method(Self,arg1,arg2,...)\n",
        "<<instance method logic here\n",
        "pass"
      ],
      "metadata": {
        "id": "RxvPJSVUFqz-"
      }
    },
    {
      "cell_type": "code",
      "source": [
        "class Person:\n",
        "  def __init__(self,name,age):\n",
        "    self.name=name\n",
        "    self.age=age\n",
        "\n",
        "  def introduce(self):\n",
        "    return f\"Hi,I'm {self.name}, {self.age} years old\"\n",
        "\n",
        "person1=Person(\"Kishan\",20)\n",
        "\n",
        "print(person1.introduce())\n"
      ],
      "metadata": {
        "colab": {
          "base_uri": "https://localhost:8080/"
        },
        "id": "qaHZbKUOFxAe",
        "outputId": "b2f2588c-d54c-4c86-eae3-2e267bc4a559"
      },
      "execution_count": 2,
      "outputs": [
        {
          "output_type": "stream",
          "name": "stdout",
          "text": [
            "Hi,I'm Kishan, 20 years old\n"
          ]
        }
      ]
    },
    {
      "cell_type": "markdown",
      "source": [
        "In the above example of instance\n",
        "\n",
        "Person class defines an instance method\n",
        "\n",
        "returns introduction based on instance's name and age attributes"
      ],
      "metadata": {
        "id": "323UsUObF6Ym"
      }
    },
    {
      "cell_type": "markdown",
      "source": [
        "**Question-4**\n",
        "\n",
        "How does Python implement method overloading? Give an example."
      ],
      "metadata": {
        "id": "kxQGbhPgF-TX"
      }
    },
    {
      "cell_type": "markdown",
      "source": [
        "Defination--Python does not support the feature of method overloading by deafult.However,there are laternative ways to achive it.\n",
        "\n",
        "To simulate method overloading,we can use a workaround bt defining default value to method arguments as None,so that it can be used with one,two or three arguments."
      ],
      "metadata": {
        "id": "14QPhHy6GEaO"
      }
    },
    {
      "cell_type": "code",
      "source": [
        "#example of method overloading in Python\n",
        "class example:\n",
        "  def add(self,a=None,b=None,c=None):\n",
        "    x=0\n",
        "    if a!=None and b!=None and c!=None:\n",
        "      x= a+b+c\n",
        "    elif a!=None and b!=None and c==None:\n",
        "      x=a+b\n",
        "      return x\n",
        "obj=example()\n",
        "\n",
        "print(obj.add(10,20,30))\n",
        "print(obj.add(10,20))"
      ],
      "metadata": {
        "colab": {
          "base_uri": "https://localhost:8080/"
        },
        "id": "5XnDI_nlGNz2",
        "outputId": "1c45219e-364c-4643-e6b6-ba1427fa8975"
      },
      "execution_count": 3,
      "outputs": [
        {
          "output_type": "stream",
          "name": "stdout",
          "text": [
            "None\n",
            "30\n"
          ]
        }
      ]
    },
    {
      "cell_type": "markdown",
      "source": [
        "**Question-5**\n",
        "\n",
        "What are the three types of access modifiers in Python? How are they denoted?\n"
      ],
      "metadata": {
        "id": "eLUidvWpXTKr"
      }
    },
    {
      "cell_type": "markdown",
      "source": [
        "Answer-Three types of access modifiers in python are:\n",
        "\n",
        "1)**Public Access Modifier**--Theoretically public methods and fields can be accessed directly by any class.\n",
        "\n",
        "2) **Protected Access Modifier**--Theoretically,protected methods and fields can be accessed within the same class it is declared and its subclass. Denoted by single underscore.\n",
        "\n",
        "3) **Private access Modifer-**-private methods and fields can be accessed within the same class it is declared. Denoted by double underscore."
      ],
      "metadata": {
        "id": "4zZlgWDgXinb"
      }
    },
    {
      "cell_type": "markdown",
      "source": [
        "**Question-6**\n",
        "\n",
        "Describe the five types of inheritance in Python.Provide a simple example of multiple inheritance."
      ],
      "metadata": {
        "id": "CbxjUWCAYVpb"
      }
    },
    {
      "cell_type": "markdown",
      "source": [
        "Answer--\n",
        " Five types of inheritance in python are:-\n",
        "\n",
        "1) Single Inheritance\n",
        "\n",
        "2) Multiple Inheritance\n",
        "\n",
        "3) Multilevel Inheritance\n",
        "\n",
        "4) Hierarchial Inheritance\n",
        "\n",
        "5) Hybrid Inheritance"
      ],
      "metadata": {
        "id": "GqxhzaMsYjDz"
      }
    },
    {
      "cell_type": "markdown",
      "source": [
        "**1)Single Inheritance**\n",
        "\n",
        "Defination-It enables a derived class to inherit properties from a single parent class,tus enabling code reusability and the addition of new features to existing code.\n",
        "\n",
        "![Screenshot (313).png](data:image/png;base64,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)\n"
      ],
      "metadata": {
        "id": "y1LchgGoYtly"
      }
    },
    {
      "cell_type": "markdown",
      "source": [
        "**2)Multiple Inheritance**\n",
        "\n",
        "Defination-When a class can be derived from more than one base class this type of Inheritance is called multiple inheritance all the features of base classes are inherited into the dervied class.\n",
        "\n",
        "\n",
        "![Screenshot (314).png](data:image/png;base64,iVBORw0KGgoAAAANSUhEUgAAASQAAAElCAYAAABNpZ9JAAAAAXNSR0IArs4c6QAAAARnQU1BAACxjwv8YQUAAAAJcEhZcwAADsMAAA7DAcdvqGQAACyySURBVHhe7d0JXFzXfS/wH9sww84wiE0gQIhVaENCQiJSLMuWLUuRHDvO/nlp3KSxG9dJm7pNP+nra5u2eX5N7KSpndpt0rROnTixI1myllhWLFsWEtoXkBCIHQECBgYGBoZF757LRRvMaJBm5t6Z+X3zITAHokgzh9+c/7nnnhN0TQIiIg0IVj4TEamOgUREmsFAIiLNYCARkWYwkIhIMxhIRKQZDCQi0gwGEhFpBgOJiDSDgUREmsFAIiLNYCARkWZo/uZa+9g4alq60WEewKDNDsvgMK72WdE/ZEOfdQjdFhvGJyYA6Z+RZIxClCEcMQY9Uk1x8teRBh3STDHISTXCEB6m/KlE2sO+rtFAar7ahyNVLThW04zzjV0wxQUhPjYIwWGjCA+3w6CfkD5PSJ+vITLiGoKVcd6ANQgjI0EYlj6GbCEYGw2HfTgY/dZgdJknkDM3HmUFmVhVmIGslPjJ/xGRitjXb6WJQLKNjKLyYiuOX2pF5YVmjF8bQ3raOObMGURG2hjC3BD2o6PAlc5QtLbp0d4eLr3TBGH5gjSsLMxEWWE6R0/kFezrzqkaSFZpWPqbg+fw1ofnkZQIpKYOIjVlVHqHkIalHmbpD0ZbeyiutEXiak8Qtq4pkj+M0QblJ4jch33dNaoEknnAhl9LL86eoxeQNW8UhfmDiI3x/AvjyJAtGGfO63Hpsg4PrcjF5zcsYzCRW7Cvz45XA0m8OL/YfxLvnazF/KwxFBcNIsKg3otzO1GPX6gxSB/hKC/OxGfXL5MnCYlmi3397nglkMSVgf/63Qns+KgaBXnD0ruEDeE61aeuHBqxB6HmUjiqaiKwcUUevrKpFCFTs4lETrCv3xuPB1JX3yD+/rX9sF8zY02ZRdMvzu3E5OBHR6IxOhyHv/+Dh5BsjFK+QzQd+/q982ggHTrXhBfe/ACLCgdRIL1T+KqaOh1OnIrCM4+uwf3LcpRWohvY193DI4EkFni9tKMCFdWXse5jfTAZtVM7361eSzAOHorFwox0fPPxtVwmQDL2dfdyeyCJYetfvLobkdEWrFox4JZ1FVoxPh6EoycicLUjGt/76sPImBOnfIcCEfu6+7k1kMSVhWd+tB05C3pRlD+itPqfy43h0rA2Bi8/+ygS4yKVVgok7Oue4bbpdLHw69kfvy29QP1+/QIJ8zNHUFTQj2++9LbcMSmwsK97jlsCSSyH/8tX3oEpUbxbDCmt/k10xOysfrljig5KgYF93bN9/Z4DSUzq/fm/vYOQiB6UlQbWaGFh0ZDcMZ97ZZfcUcm/sa97vq/fUyCJRWDffe09jAaJF2hAaQ0somOGGnrkjio6LPkn9nXv9PV7CqTth6rR0tOG+9b2IzhIaQxAq1daMTTeI6/QJf/Evj7J0339rgNJTHD91+9OYlVpYL9Agvj3r5FeKHG7QFt3v9JK/oJ9/QZP9/W7DqSXth9G7oIRr2yf4AuioyZQXDiEF37zgdJC/oJ9/Vae7Ot3FUjnGjpxur4FyxYNKi0kLFo4gqarXfJtBOQf2Ndn5qm+PutAEpN7//zG+1ixbAAhIb5z86A3iOFs+WorfvTbDznB7QfY1x3zVF+fdSCJyT1DxBCy5o0pLXSzlDljMJls+Pm+40oL+Sr2dec80ddnFUgiCV979yRKlnLi1pnSkiG5M3PBpO9iX3eNu/v6rALpwKl6JM0ZV3ULTl8gdgbMlt5V9x6rUVrI17Cvu8bdfX1WgfTWB2eQk2NVHpEzuQts+O2H55VH5GvY113nzr7u8t3+De29+PNX3sYTj5qVFnVsK3oKuhC98ugG+/gwhkataDCfR233KaVVXdvfMeLbn3kIxVlJSgv5Aq309QhdDPITS2CKnItoXRxCgkPl9vGJMdikvt5hbcTFrhMYsqtfVrqrr7s8QjpS3YzMeerPicwURoJoj9ObsDT147g/5zNKq7oy0ofw0fkG5RH5Ci309QWmpXhwweeRk7BE7tdTYSSIr6PC4+TviZ9Jj8tTvqMed/V1lwPp0PnLmJuqnRsKr/RfxhtnX7j+Ud15FNaRPvl7CREpKM/8hPy1mtJTR3G4ioHka9Tu6wuTVstvrOJNVoyGmnov4PeX37je1yuad8v9X3xP/Ezp3AdVDyV39XWXAknMoDd29iM5Sbtra853Hsbump/JpZuQFDVP/qymRNM4Bmwj8s6C5BvU7uuiTMuTyjRB9OU9l36Ooy170TXYJrcJLX01ONT4NipbfyeHkhgxlaStV76rDnf1dZcCqa6tB2lzgn3iPp5u5YUTL5IWhrLJiddQ09KtPCKtU7uvL5NGRlPlWVXnEafzQyKYWi218tdipLQs7T75a7W4o6+7FEiXr5gRHeN7O+PpQyOUr9QTHWNDfXuP8oi0Tu2+bopMkz+LSWtXLs6ckyqDKWLyW03u6OsuBVJDZzeio31jkV9I8I2d1tukOltt8XHjqGntVB6R1qnZ1xOlMJq6aNNrc63PiBHU1NxpRJi65wa6o6+7FEhNHWbExWr/3ixRf5siUuWvxYukhcuhYmFdy9XJDkPap2ZfjzPMUb4COq0tyld3Njg62c+nwkwt7ujrLgWSzT6GsBtXHTVJXJkQl0Cn6u/antPyZ7WF68Q+zLwXylf4Ql+/3fiENrZPdkdfdymQ+gdHoNdr627n1Jj5eGLRN69/FCatvH6ZtE4KI60sjowwXEO/lftt+wot9nVf4Y6+7lIg+QIxCdhpbcYHDW/hZNvvlVb1iW0rRsfZwclzwjVw8UZwR193KZDGJ64hKEhbv1S3L4zceeFVHKx/85b1GkSzpWZfHx67caxSUlS68tWdhYcY5M9Tk9u+zKVACgkOwrVrPrAISYOk/o1gX1jARTI1+7pYVzQlQherfOWcuJAjbiMRpia31eKOvu5SIEXqwzDiG1f9NWdwMBjxMX506LufU7uv9w1PLiwU96+JZQB3IhZSTqk3q7u7hDv6ukuBFGXQwW7nu/zdGB0F9LoQ5RFpndp9XexWMWVVxiZ5BOSIWJktLu4IIshuHmGpwR193aVAmpcUjz4Lf6nuRq8lGBlzJofUpH1q93VxdVhcnBEMYVHyUhYRPDcHk7glSuxoIe72F8Q9b4cad8hfq8kdfd2lQMpKToSl38cWZ2hEb18IclITlUekdVro6+LizFQoiaUsIng25z95fYlLmTRyEjtaTBE/U5651aUSz5Pc0dddCqT0ObEYHFB3FegUsc5IGBr1jeOMB/r1yE4xKY9I67TS10UoiS1HRDCJJS03E497htqvb0MiiDmntVmfxLrsx1QLJnf0dZd2jBRbMnz2u/+Dzz/R6xN3/GvJr96Kx7/+yeNINqp7nxG5xhf7uijhipNWX7/aJoiw8vackjv6usuT2qkJ0ejsYtk2G+beYOjDdAwjH+KLfV0Ej9gL7NSV9+WR01QV4U3u6usuBZLwseJstLZpo2zzFY3NYVi9MFN5RL7CV/u6mBB/r+6XePP8v3h9dOSuvu5yIK0qzEBzs055RK5ouxKBVQUMJF/Dvj577urrLgdSTloCIsINuNLBy/+u6DYHY2QkBCW5k9uhkO9gX58dd/Z1lwNJ+GT5IlyqjVQekTMXL+nx6Jpi5RH5GvZ117mzr88qkDaWLkBreyisg7zU5syIPQgNTeHYtCpfaSFfw77uGnf39VkFki40BI+vLcbxk7xq5MyxkwbpBcpDbCQvAvgq9nXXuLuvzyqQhM+sX4ze3gi0XuESgJl0doXIE3xfenC50kK+in3dOU/09VkHknjn+Obja1FRGY3xcQ5nbya2XzhyLApPf6IMhnDe4e/r2Ncd81Rfn3UgCaX5c5GbloyzVSxJblZ1IRyJ0UbcvyxHaSFfx74+M0/19bsKJOGZR8ulFykclv67/iP8ypAtGKfPReBPP3VjfxryD+zrt/JkX7/rZ1gsEf/s+iXycFYM3wJdxbFIPLIqn1uN+CH29Vt5sq/fU+Q/cd8iRIQacfhItNISmCoqDQgZN+J/PTh5Jjv5H/b1SZ7u6/cUSGLS7//90SOYGDHJf9FAdOacHt1d8Xj+q5s5ke3H2Ne909fvuSgWf7HvfWWT/Bc9X6WN41i85dwFPZqa4vDDr39Cvkuc/Bv7uuf7ultm6cRfUPxFGxpiUXUxXGn1b/VNOly4GI0Xnv4EjNGB+Y4ZiNjXPdvX3RJIgviL/uDpLai6EIPLjf79Ql1uDMWxEzH4wVObkRjH+50CDfu657i0Y+RsNF/tw1+8shvJKQNYuXzIr3aYFFdYTp6JQGNjJP75a5t5RS3Asa+7n9sDSbCNjOL7b3yAqpYWrF9rQWzMhPId3yVusnz/wxikJ6Tg25+7n3NGJGNfdy+PBNKUvccu4eUdh1G6YhALsnz3pMmGplAcrozGlx9aga1ripRWohvY193Do4EktHX34zs/24uoqH6sKh1AmA9dGRf3Lx05bkBvTwz+9xcflDfuInKEff3eeTyQhPGJCfx4+0f44OxlFBbYUJg7gpAQj//f3jXx4ly6HIpzVVEozc/AM9s+xjVG5BL29XvjlUCaIt5B/nNvJY7XtiJ/wTAK84cRrtPOiyVenOpL4dKLo8fCzGR8aWMpR0V0V2bT18UEsrcnxLXa170aSFPEi/XG+2dw8Ew9cnOkd5H8EUQYPDsZ2NwWisHBIBTkjiotN4hd785fCEf1RQNWFczFlx4qRZrJ8ZnqRK66U18X+1HvfS8CZSuGMT/T88cXab2vqxJIU8wDNrz27gnsO16LzLnjSEoeQUbamNvCaXgkCBcuheGi9E5gGQiCXgd88dMD8hBafE+EVGdHOFradLhvaTYeX7uYQUQeMVNfT08dk8IoEmMjYei1jiEnaxzlq4agD3fvr6Qv9XVVA2mKeLEqL7aioqoeJy61IzY6CKmpI0hLGUZS4sSsa3BxWsSFGh0amsMQGhyMB5bE476iePzVL+qRlDSKUbsOPX3XsCw3GasLs1FWlMHV1uQVN/f1I9VtEL99//50ntQ+hv+7vREDw2NYI4XSvYyWRAnY0RmCK+066UPvU31dE4F0MzEpWNPSjaMXmqUXrBHNV61IT7kGg2Ec4Xq7NHqSvtZPQC89p1ERE/JjEVgjdshD0dp6HfosQchOMmDrChM2LI6DQTd5nM0Lu1pwpHYI3/7cfSjOTkKIFFZEaqhr68FTL7yNr2xIxhNr5shtNvs4Xnm3HTsqu5EQPyGVeHbERE3v6yJwBgeDMWQLwtBQkDwCGhwKxrBNB7s9BE1tQFpilFSSzcPy3HSf6uuaC6TbWQaHcbquHf2DI9K7yBA6ei3osw7BYh1Gd79NKsXsGB2/hmBlVjAnxYA/2ZSGwrnTl7k3dA7jyZcu4uVvbkVeuklpJfIu8ab71As7oAsawQ+fzJHC4tYZ7dMNVnxve7PU5yeQmSqVVdcmpvV1Y4wO8VF6xEYZEBepl8qveHmj/Xhp9FOcneyzI37NB9JsvPCbj3DyYiP++1nHR7J8/dVaZKSk4LnPrlNaiLzr5/tO4vX3zuCVp3KRYZp5a9x3z5rx/G9b8MNnNqNw3uQIKhD4Vc2ybU0h2szDqKzrV1qm27oyAQdO1cNq893VtOS7RKn22rtn8OX1yQ7DyDI0hpf2XMFj64oCKowEvwqkrJR4+QXcddystEy3rjAeBl0wdh+pUVqIvEOUas//8gPkpRrwWFmi0jrdi7vapFIsEl9+OPCO0vK7Wd1Pri1CRU0/uizT1xsJutAgbFxqlALpotJC5B2vvXsazZ19eO7R9GnzRlMOVvXh0AXpZz67Vt6lMtD4XSCVF8+T707efapHaZluW6kJzV398uVXIm9wtVR7cVdrQJZqU/wukMS7ijiXfecxszREnnm+PjlOh9KcGOw5yrKNPI+lmuv8LpAEMbltttqloa9FaZlu8/IEHDrXJC9UI/Iklmqu88tAEudoiRNH95x0PLldlhcDY7QOOw9fUFqI3I+l2uz4ZSAJm8vy5cv/zd3DSsutxDvVlpLJyW0xpCZyN5Zqs+e3gVRWlI7EuAjsdjJK2lSSAHP/sFy6EbkbS7XZ89tAEvfubCkrkAPJPjbz5LYxKhTlhXHYwzVJ5GZyqfa70yzVZslvA0nYtCoPtpEJHDjfq7RMt1kaJVXWtMknSBC5w/VSbW4kS7VZ8utAEjcYlhdnYNcxx2uSSuZHSe9gBuw+eklpIbo3cqnW0Yvnts1lqTZLfh1IwmapbKtuHUTNlSGlZbpNy+KxTwok+9i40kJ0d66XavenOCzVxF0ELNVm5veBVJKbiow5sdh90vEoSUxu20bs8k23RHfL9VKtlaWaA34fSMKW1QXYd9IM6/DMI6AofQjWLzJiF9ck0T1wpVTbe9osL0dhqTazgAikjSsWAEHB2H/W8eT21tIEVDd1ybtVEs2Wq6XaS3sDc1sRVwVEIImbbdcvzcLO447LtrzUCOSlRWL3Ue4CQLPjcqn2ThuM0SzVnAmIQBK2lhehodMmbw/qyKalRuw/cZmbt9GsuFyq1VpYqt1BwASS2EM7Lz0Bu447LsnEPkkhUn/af6JOaSFyzuVSTd4BciFLtTsImEASxBKAg1UWmK0zHzEjNm/bsCgOOys4uU13NqtSLUaUaiVKCzkSUIH0wPIcGPSh2Ods87aVJjS098knnRA5w1LN/QIqkESH2FCyADtPON68TQy7l2RFYxdHSeTEbEq1J+5bxFLNRQEVSMK28gJ09I44PZlE3N928HQjN2+jGYkV/d/979+jMP3OpVpyQoxUqi1TWuhOAi6QMubEYUlOMnYdc3IySVEsYiOl0q6S97fRdD/dc0Ia/Qzi249l3LlU+8xa6WcC7tfsrgXkMyUmtyvrBtDRN/PlfdHJxBW3nYer5YlLoinVTVfx5vvn5SOwxd7sM5kq1b7wwBLkpCUoreSKgAykdYszpRGQzulCyS3LE6SONcyTSeg6Uao9//oHKM6Mkk+ucWSqVBOBRLMTkIEkhtAbS/Ow75TjzdsmTyaJxq6PuHKbJk2Vas9tS1dapmOpdm8C9hnbtqYAlsEx5yeTrDCi4kILOsyOV3dTYGCp5h0BG0iJcZEoLUjHrhOOy7ay3Fgkx4djZwVHSYGMpZr3BPSYcvPqPJxuGEBD58wnkwhTJ5Nw87bAxVLNewL6mSsrzECyMRI7nd7fJjZvG+XJJAGKpZp3BXyUi5NJxD5JNvvMIyD5ZJL8GOz48LzSQoGCpZr3BXwgiZNJxJW2/WccnzqydWUizjV2oaHd8QZv5H9YqnlfwD+DsZF6lBdnYvcpxyu3izMikZVk4C4AAcTlUm0vSzV3YqRLtpYXoqZtUD6dxBGxUHJfZa08n0T+bValmpGlmjsxkCTFWUnISonDruOOR0kbFsVL/y2VdicuTzaQ33K5VLvEUs3d+EwqxOT2gbPOTybZsDgO2w9xctufyaXaQRdLtQdZqrkbA0mxoSQHIaGh2O1koeSWEhMaOixypyX/c71Um8dSTS0MJIU4mWRDyXzsPun4SlpOigGFcyOx41C10kL+ZLJUs7JUUxGf0ZtsKctHc7fN+eZtKxJw8EwDLIOOV3eT77lRqqWwVFMRA+kmopOJrUb3OBklrV8YD4MuWL7iRv7B1VLt+R3NLNU8jIF0m82r83Goug/OTiYRm7dxctt/uFKqba/sxul66WdYqnkUn9nbrF+ajaiIcKf3t21aZkRH7xA3b/MDrpRqYmfRV/d3sFTzAgbSbcTJJBtLF8iT285OJinNicGuw1y57ctcLtW2tyBjDks1b2AgzUBMbndZRpxu3vawNEqqqG5BV5/j1d2kba6WatUtg/j25+9jqeYFfIZnkGaKQWn+XOw56XjldnlBLIzROm7e5qNmU6p9+eHl8mk15HkMJAceXpkrX/5vM48oLbcSJ5NsWhYvb97Gk0l8y2xKtazkeDy2rkhpIU9jIDlQXjwPiXERTk8m2bQ0ARarVNpx8zafMptSTRyBzVLNe/hMOyA64aaVzk8mSYwNQ3lhHHZ8xJXbvoKlmrYxkJwQgWQdnsDBascLJR+WyrbTdR1ovup4gzfSBrF1DEs1bWMgOSFOJikvzsCOo47LNnH5P8NkwM7DnNzWulffOQ5zv/NtRViqqYvP+B08LI2SxMZtde02pWU6Mbm9r/KSPFlK2nS6rh3bD1Xj6YdT71CqtbNUUxED6Q7E5f+MObHYecLZySRGOYzePV6ntJCWyKXaLw+iLC8ODy0xKq3TTZZqCSzVVMRAcoGYSxKHADg6mSQ2IhTri+Oxq4KT21okSjXr0Ai+8Uia0jLdjVLtYyzVVMRn3gXiVpLx8WvYd9rx5Pbm5UbUtJilD8cjKfK+m0s1cVV0JizVtIOB5AJxMsn6ZdlO1ySJjdtyUsTmbVVKC6mNpZrvYSC5aPPqAjR02nCu2cnJJCVGHDhVD6vNrrSQmliq+R6+Ai4SG7flpSdgx9EupWU6cQiA2C9p3zFu3qY2lmq+iYE0C5tW5uPQxX5YhmbevM2gC5GPS9rJbUlUxVLNdzGQZkEcAqALC3F+MslyE5qvWnDi0hWlhbyNpZrv4isxC4bwMCmUFmDnCcfbkmQl6VGcEYVdPHZbFSzVfBsDaZbE5m0dvSOouOR487atpSYcOtsE84Dj1d3kfizVfB8DaZayUuKxJCcZu44537wtNjIUu4/UKC3kDSzVfB9fkbuwuawAlXUD8jldM5k6mURMbnPzNu9gqeYfGEh3QWzeFhupw/Zjjldlb1meIAXWECqqWpQW8pTrpVpuLEs1H8dAuguTJ5NMbt7m6GQScUe5+AXhySSe9+o7x2C1SaXa5rlKy3SiVKu5YmOppnF8Ze6SmNw2W0ednkyyeYURlTVtaOt2fDQ33ZvJUu0Cnn7ozqXaVx5ZwVJN4xhIdynZGIWywgzsOOZ887bE2HCeTOIhrpRqYgT7/PZW5KUnYlt5odJKWsVAugebV+fhdMMAmruHlZZbiZNJtkmjJG7e5hmulGpvVnShpm0Iz31mndJCWsZAugdi87ZkYyS2H3W2eVsCrEN2HDzToLSQO7hSqok3ip8e6MBXNq+QR7SkfQykeyAmR7eUFWD/2T6HJ5MYo0KxrigWOw5x8zZ3cblU+20rCjPnsFTzIQyke7SxNBc2+wTePeN4oeTm5SZUN3Whrs3xfBO5ztVSreHqMEs1H8NAukfGaAPWLc7ELif3ty3Jipo8mYT3t90zlmr+jYHkBpvL8lHTNoiaK0NKy3TbViZg//HL3LztHrBU838MJDdYkpOCrJQ47Kh0XJKJfZLGx8ex/wRPJrlbLNX8HwPJTcTk9oGzZliHZ768H6UPwcZl4v42Tm7fDZZqgYGB5CYbSnKAoGDsO+14LmnTsgQ0dFhwrqFTaSFXsFQLHAwkN4ky6OTjknY62ZYkLzUCeWk8mWS2XtpxhKVagGAguZE4ULK524bTDValZbqtpQk4dI6bt7mqoroZ7xy5hD/bMpelWgBgILlRXrpp8mQSJ/e3rV8YD12YVNpVXlJayBFxRfLF3xzGuqJ46WPmm2JZqvkXBpKbbS0vwqHqPpitM59MIjZv26RMbnPzNude2l4Bu12Uao53gGSp5l8YSG62fmk2DPpQpyeTiEDq6B1C5cVWpYVuJ0q1vcfq5Hmj2IhQpfVWLNX8DwPJzcTmbZtW5csnk4hyYiYZJj1K5kdj10fclmQmLNUCFwPJAzatzEWXZQSVdY43ZttckoDKmlZ0mB1PgAcqlmqBi4HkAWJXwpLcFOw46rhsk08mkUoRbt52K5dLtfdYqvkjBpKHTJ5M0i9vnzoTsXnbphKxeVsNN29TuFyqbZdKtawklmp+iIHkIeJkEmOUXt5c3pEtJSZYBu3yuiSabam2Vmkhf8JA8hB587Y1BfLJJI42bxML/cryYnjstmQ2pdrXtqxkqeanGEgeJFZuW23jzk8mWW7E6boONLT3Ki2BZzalWkluGraszldayd8wkDwoMS4SZQvT8daRLqVlOnEySXJ8YJ9M4mqp1twt/cyn1igt5I8YSB4mJrerWwfR0DnzySTCthVi87Za+a72QDObUu3pbWVyyJP/YiB5mDiZJM0Uje3HHI+SNi41ylfa9p+4rLQEhslS7SOXS7WHVixQWslfMZC8QD6Z5EwfbPaZL++LkcG6wriA23N7slQbZalG1zGQvEDskyTe6UUoObJ1ZQLq2syobrqqtPi3G6VaGks1uo6B5AWxkXqsW5wtlW2O1yQVzo1EVpIBuw77/yjpeqkmjQpZqtHNGEhesrW8AA2dNnmC25FtK0w4cKoelkHHE+D+4HqptsXxDpCvf3iVpVoAYiB5SeG8OZMnkzi5v23D4jj5lpJ9lbVKi/9xpVSra7fh5+93slQLQAwkL9q2pggHq/tgGZp58zaDLkQOJX+d3Ha5VNvRitI8lmqBiIHkRRtK5iMkJES+ncSRbSsS0dY94Jebt7lSqr32Qad8QzJLtcDEQPIiQ3gYNkrv+tud7LmdlaSXJ7j97f42V0u11w5eZakWwBhIXralLB8dvc43b/vkqkRUnG9BV9/0CXBR9vgalmrkKgaSl2WlxMsT3LuOOy7bxOZtUYYQ7D5aIz8Wq7jfPVGHr/9wp3yCq1Y5uvXF5VKtl6VaoGMgqeCTa4tQUdOPLsvMv8DiZBJxO8nOjy7g1XeO49N/+0v80y8OSj9vRVlRuvJT2lNR3SL/fW/ecG5WpdqjLNUCHQNJBWLzNnHS7c4TjhdKbis1wWwdxr6j1di4JEZeDrBtTaG8z5JWZSXH4/X3zuCr//xbecX5rEq1/Lks1QhB1yTK1+RFYiQhwuZXfyZCJkhpvdW55kEUzo3A7hNm/OveNvzPX38GxmiD8l3nxPxT3ZUeWAZH0GkegHlgGH3SR3f/EHosQ1IQjCNYCjdTbCQSpD8zPsYg/dl6JBmjERsZLoWL8a42QXvk2z+HLgSwDo8jzRQDi3UI//lMnsPR0c/f78CbFT34j+ce4+iIGEhqEaeNfO67v8LfPJHpcPQw5as/qUVGchK+88X7lJbpxKGT1U1dOCqVTYfONeNqnxWmmBiEh+kQHKJDeGgYwsLCYAgLh14XJoVRCMRLbxsZwcioXf6wj41ifHzyc0//gBRSepQvnIeVBXNRnJ3k0ujs2R+9jflzriE3LQIv7WnDc9sy5DmxmYhS7alXavFnny7n6IhkDCQViFtDxGrsn+45jiWZUfjeF7OV70wnbjX5+qu1+PGzW+TJ8JuJSeRD55ukEGrF0QutMITrkBCTII164mGMikFQ0MwjL1f1DFik0VQveq296B8cwor8NKwqkgJGCilRcs7kX7cfwfm6Brz8R7nyKClKLw2XZiBKtadeqUNifAL+4Q8fUFop0DGQvKimpRs7DlXhwMl6hIQEYeOSeGxZbpLXHjny3V83otkcjFe+9ajSMnnVbefhi/jv351CnBQ88VHxmBOXIAVSuPIT7idGUB3mHvQN9qLbYsFjawvw+LriacH0zpEa/MubH+Gd7yxyWIoKLNVoJpzU9hLzgA37jtXi4Nkm2McnUJoTLV9JcxZGZusYDlZZsFU57kcE0ZsfVOGJ//M6dlXUY2lOMZbML8K8pFSPhpEgSr95SSlYnF2IVQVLpLKwE5/+u1/iV78/d8tVtbx0k/Tvu+Z0h0xeVSNHOELyMlFmiWAS96s1tPchLy0SW0sTsH5hvHy5/2avHezEGxXd8mS2KPHkEVFkDLJS5iE2Uv1TNyyDVjR0NKHPOoAvPLgEn1idL4+KHvnL/8Izm1LxSEmC8pO3evY/alHXaccPnt4kBxjRFAaSisQixx0fVcuT0FH6YHnEJC73J8fp5DmWz714ESX583C2rhPXECKNpjJginU+Aa4GEUz17U0YGhnEP33lQXz/jQ9RkBKEP3lk5oWQYv3Vi++0obJWKv3WLcSXHy6RwnjmuSYKLAwkDRDl3M7DF+SFkGLtUVluLDKlUu71Dzuh14UiNy0LmcmOt3nViuauDlxua8CC9AQMDlrw8lenXzlrM4/IJdvlTunffKxH3vlAHD3+nS9+HDlpM4+oKHAwkDREXLoXp9hul0ZNZ+o6oAsLxar8xYiLilZ+QvvEaKny4lmMjY/i1afz5LmkC21DuNxhQ02bDdbhya1XxN5QOakm5Eolm/jISTXKNx9TYGMgaYxYEvA3P3sPV3tHkJ06D6YY7ZVod2IesODQ+VPy12Lt0mT4JGC+NAJi+JAzDCQNaevux7de3iuFkAnZKRn3vI5ILaJLNXZegW1kGN0DPXjxjx+WyzKiO2EgaYQYGf3xi7uQkpCGtIRbF0D6sg5zN+o7GvCTP93q8m0vFLgYSBog1vF888e7ERwUiflSmeZvmq5eQZ+1Cy99YwtLNXKKCyM14B9/cRCjY6F+GUbCvDmp0IVG4m9+dkCeuCdyhIGksp/sPIa6VgsKMvz75tL89Pnostjx/V8fVlqIpmMgqejtwxex/3i9fPuHr05gu0r8+4rm5eFETTte339GaSW6FQNJJWIx5H+8cxxLc4oQGhIYq5TFv3NJdhFeP3BO3n6F6HYMJJWIMEpLTEGkPrCuPImbgDOT0vDyjkqlhegGBpIK6tp6cLiqBVlJjje992eZKXNxvuEqzjV0Ki1EkxhIKvjRW0eQk5aJsNCZt3X1d8FBwZifmokf/qZCaSGaxEDysoNnGtDdZ0NaQpLSEphSExIxbL+GvcdqlRYiBpJXiTU4P3n7GOanOd6yNpAskJ6HV3Yeu2WDNwpsDCQvOl3XgdCQMCREz7zpfaARm8zFRkaj8kKr0kKBjoHkRQdOXkZCjFF5RIIxJgHvnaxXHlGg471sXiLKtUf/+n9QVrDM4/tf3+4LD6bDFDv9lJA+6yiaOobw+1OOD6z0tLHxcbx/9ije+rvPcddI4gjJW8SZabGRkV4PIyE0ZHIVuNU2JoeQ+Bi2jyMuKgyLc2Lx2LpU+ftqEIslE2PjWLaRjIHkJe+frle9XDte04f/3NMsf/xkRyPO1Fnk9vQ5BuSmq3doAMs2msJA8pL3TzciKS5ReaQNolQToyYhP0O9QEqJN+FYTSuvthEDyRvEAZHiKGs1yrU7GRtXfwpRlG0J0TE4V8+V24GOgeQFDR29iInU5kb9et1kF+jqs8uf1aIPj0Cj9DxRYGMgeUFzZx9Cg7W1U2KaSS9ffdPrQuSyraLKrHxHHRE6Perb+5RHFKh42d8L/vKV32FiIka+XUINX3o4Q76iNpP2nmHsOdKJ/qHJuSS1dFl60WvtwEvf2Ky0UCDiCMkLBmx26ELVHyFNXfafmsgWl/6bO22qh5EgtmHp6htQHlGgYiB5QbdlUBMT2lOX/f99V5N8yV+UayV5cXL5pjZxfpt9jPttBzoGkhdMTExobotacclflGti0WT5IvWPsA4P02FgaFh5RIGKgeQF4xPXECT9R2sOne2RP6ck6DUxSiJiIHlBSHAQrkn/0Zq27mF5lCSI0o1IbQwkL9HqxcyalsnN9jOSIhATod4OliOjdkTop98ATIGFgeQFc+KjYRsZUR55n7PV2KdrLfJVNzGXlJ0WqbR6n9gNwaALzC196QauQ/KCP//JPgQHxSHFaFJa6HZiHVJ3Xxv+7VtblRYKRBwheUFWShyGhm3KI5qJeH6y0rh5XaBjIHlBdqoR9nFe0nZmcGQYOQykgMdA8oKMObEYsg0pj2gmI3ZphJQcrzyiQMVA8oK8dBMGbDbYx0aVFrqZ2MbWPNCP4uzAPhqKGEheIW6LKCvKQIdZvb2rtay9txsluWncU5sYSN6yoWQ+evoZSDPpsXRLzw/PqiMGktcsyUmGZXCQZdttRLnW1dcnjZDUO2iAtIOB5CUs22YmyrWF2ckwhGtrAztSBwPJi1i2TcdyjW7GQPIiUbZZh23os3IjMsFqG0TvQD/KF85TWijQMZC8SJRtX/vECtS28QwyoaalHk8+spzlGl3HQPKyB0pyEGUIwZWeLqUlMF3tM0u9bwyPrMpVWogYSKp49vEyXJJGSRPXAnPLVnE/txgdfeOx1fKokWgKe4MKCufNQcmCVNS3tygtgaWp8wqyU+N4qZ+mYSCpRMwl1be3qrpPkhrEOqy6K834hjRKJLodA0kliXGReHJTCU7XV8mLAwOBKNVO1lZhW3k+0kwxSivRDQwkFT22tgjL81JwruGiZre4dafzjZdQMM+IP3xkudJCdCsGksr+9FOrkRQfjostl5UW/3SprRHhYeP4zhfXKS1E0zGQVCauMv3tH6zH+IQNDX46yd3S1QGL1Yznv7aRV9XIKfYODRALA8Uv6xVzO9r97F43sVd2Q2czvv/0w4gy8FQRco6BpBHGaIP8S1vbdhkNHW1Kq28TI6Oqxhp898v3I9kYpbQSOcZTRzSmq28Q3/npexgdDUbhvFyEhvjepmViwWd1Yy3GJobxD3+4gVfUyGUMJA0SZ5T94NeHcaSqDYvnFyAmQr3z0mZrcNiGM/UXUJyViG99eg3vU6NZYSBp2J5jtXjpt0eRnzEfaQlzlFbtEvNfVY2X8OQjJXi0vFBpJXIdA0nj6tp68Ff//i4iwiOQlTwPsZHam4sRo6KG9mZ095vx908+II2OuFk/3R0Gkg+w2uz4zcFz+PXBKqTEm5CVkoFIvUH5rnpEEF2+0owuixmf/FgBPvXxYl5Jo3vCQPIhIph+/f45vPXhBSTFGVULppFRuxxEzV0dUhAV4XP3L2IQkVswkHzQzcE0RwomY3S8/DksNFT5CfcT99uJPYx6rX240n0VG0sX4AsPLJGXKxC5CwPJh4lg+v2pehw41YALzVdhjIqaDCeprHPHlTmxxWxnrxk9A1IQDQxgwVwT7luahXWLsxhE5BEMJD9hHxvH6bp2HDzTiKPVLRgdvwZTTByCg0OhD9NBp9PBEBYOQ3g4wqXHYn2TWC80bLdjaHhYLsOG7SMYlj6Pj4/CbLUgOAhYkTcXH1+aiSXzU3gJnzyOgeSnmq/2obqpC739Q9IoZwjdFrGh/rBUdg3AMjgslWATUigFIzZSj8S4aHnEkxBjQLIxEvExEciTRkNZKTxrn7yLgUREmsF72YhIMxhIRKQZDCQi0gwGEhFpBgOJiDSDgUREmsFAIiLNYCARkWYwkIhIMxhIRKQZDCQi0gwGEhFpBgOJiDSDgUREmsFAIiLNYCARkWYwkIhIMxhIRKQZDCQi0gwGEhFpBgOJiDSDgUREmsFAIiLNYCARkWYwkIhIMxhIRKQZDCQi0gwGEhFpBgOJiDSDgUREmsFAIiKNAP4/ullLIu05BWwAAAAASUVORK5CYII=)\n"
      ],
      "metadata": {
        "id": "w_4zxDlbaAlL"
      }
    },
    {
      "cell_type": "markdown",
      "source": [
        "**3)Multilevel Inheritance**\n",
        "\n",
        "Defination-Feautures of Base class and the derived class are further inherited into the new derived class like Relationship between child and grandfather.\n",
        "\n",
        "P-Base class, Q-Intermediatery class, R-Derived class\n",
        "\n",
        "![Screenshot (315).png](data:image/png;base64,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)\n"
      ],
      "metadata": {
        "id": "5qlocbZ2bTlj"
      }
    },
    {
      "cell_type": "markdown",
      "source": [
        "**4) Hierarchial Inheritance**\n",
        "\n",
        "Defination-When more than one derived class are created from a single base this type of inheritance is called hierarchial inheritance.\n",
        "\n",
        "like we have parent base class and two child derived class.\n",
        "\n",
        "\n",
        "![Screenshot (316).png](data:image/png;base64,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)"
      ],
      "metadata": {
        "id": "Uh2eKoI7coAq"
      }
    },
    {
      "cell_type": "markdown",
      "source": [
        "**5)Hybrid Inheritance**\n",
        "\n",
        "Defination-Inheritance consisting of multiple types of Inheritance is called hybrid inheritance.\n",
        "\n",
        "\n",
        "![hybrid screenshot.png](data:image/png;base64,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)"
      ],
      "metadata": {
        "id": "EmV95YwieE0L"
      }
    },
    {
      "cell_type": "markdown",
      "source": [
        "Example of Multiple inheritance"
      ],
      "metadata": {
        "id": "5TkgKiMb9_Ec"
      }
    },
    {
      "cell_type": "code",
      "source": [
        "class Parentclass1:\n",
        "  def method(self):\n",
        "    print(\"method 1 of parent class 1\")\n",
        "class Parentclass2:\n",
        "  def method2(self):\n",
        "    print(\"method 2 of parent class 2\")\n",
        "class childclass(Parentclass1,Parentclass2):\n",
        "  def method(self):\n",
        "    print(\"method of child class\")\n",
        "\n",
        "C1=childclass()\n",
        "C1.method()"
      ],
      "metadata": {
        "colab": {
          "base_uri": "https://localhost:8080/"
        },
        "id": "cbHoO1Ql-Djz",
        "outputId": "02000502-a253-4543-cad4-6d0e675638c5"
      },
      "execution_count": null,
      "outputs": [
        {
          "output_type": "stream",
          "name": "stdout",
          "text": [
            "method of child class\n"
          ]
        }
      ]
    },
    {
      "cell_type": "code",
      "source": [
        "C1.method2()\n"
      ],
      "metadata": {
        "colab": {
          "base_uri": "https://localhost:8080/"
        },
        "id": "myTNPR3l_Ekq",
        "outputId": "9efc7d53-842f-4fc0-ca4b-56f805b15262"
      },
      "execution_count": null,
      "outputs": [
        {
          "output_type": "stream",
          "name": "stdout",
          "text": [
            "method 2 of parent class 2\n"
          ]
        }
      ]
    },
    {
      "cell_type": "markdown",
      "source": [
        "**Question-7**\n",
        "\n",
        "What is the Method Resolution Order(MRO) in Python? How can you retrieve it programmatically?"
      ],
      "metadata": {
        "id": "i8ZUIaJJ_TEq"
      }
    },
    {
      "cell_type": "markdown",
      "source": [
        "Answer-\n",
        "\n",
        "1) This method denotes the way a programming language resolves a method or attribute.\n",
        "\n",
        "2) Python supports classes inheriting from other classes.\n",
        "\n",
        "3) In this we define the order in which the base classes are searched when executing a method.\n",
        "\n",
        "4) First the method/attribute is searched within a class and then it follows the order we specified while inheriting this order also called as Linerarization of a class and set of rules are called MRO.\n",
        "\n",
        "We can retrieve it program by using\n",
        "attribute-mro\n",
        "method-mro()"
      ],
      "metadata": {
        "id": "52qbrch6AqdD"
      }
    },
    {
      "cell_type": "markdown",
      "source": [
        "**Question-8**\n",
        "\n",
        "Create an abstract base class'Shape' with an abstract method 'area()'.Then create two subclasses 'circle' and 'Rectangle'that  implement the'area()'method."
      ],
      "metadata": {
        "id": "zJosEqxwB0jr"
      }
    },
    {
      "cell_type": "code",
      "source": [
        "class Shape:\n",
        "  def calculate_area(self):\n",
        "    pass\n",
        "class Rectangle(Shape):\n",
        "  def calculate_area(self):\n",
        "    return\"Area of rectangle is length*breadth\"\n",
        "class Circle(Shape):\n",
        "  def calculate_area(self):\n",
        "    return \"area of circle is pi r**2\"\n",
        "\n",
        "rect=Rectangle()\n",
        "rect.calculate_area()"
      ],
      "metadata": {
        "colab": {
          "base_uri": "https://localhost:8080/",
          "height": 36
        },
        "id": "nyi7xqeICLN7",
        "outputId": "1fc707bb-3a18-4c03-b354-ec8166ed4144"
      },
      "execution_count": null,
      "outputs": [
        {
          "output_type": "execute_result",
          "data": {
            "text/plain": [
              "'Area of rectangle is length*breadth'"
            ],
            "application/vnd.google.colaboratory.intrinsic+json": {
              "type": "string"
            }
          },
          "metadata": {},
          "execution_count": 6
        }
      ]
    },
    {
      "cell_type": "code",
      "source": [
        "c=Circle()\n",
        "c.calculate_area()"
      ],
      "metadata": {
        "colab": {
          "base_uri": "https://localhost:8080/",
          "height": 36
        },
        "id": "q8_AlAQmDQ6V",
        "outputId": "300296cd-43d5-4064-d1df-29a604110cfa"
      },
      "execution_count": null,
      "outputs": [
        {
          "output_type": "execute_result",
          "data": {
            "text/plain": [
              "'area of circle is pi r**2'"
            ],
            "application/vnd.google.colaboratory.intrinsic+json": {
              "type": "string"
            }
          },
          "metadata": {},
          "execution_count": 7
        }
      ]
    },
    {
      "cell_type": "markdown",
      "source": [
        "**Question-9**\n",
        "\n",
        "Demonstrate polymorphism by creating a function that can work with different shape objects to calculate and print their areas."
      ],
      "metadata": {
        "id": "JYVdwpLcVPQe"
      }
    },
    {
      "cell_type": "code",
      "source": [
        "class Shape:\n",
        "  def _init_(self,name):\n",
        "    self.name=name\n",
        "\n",
        "class Circle(Shape):\n",
        "  def _init_(self, name, radius):\n",
        "    super()._init_(name)\n",
        "    self.radius =radius\n",
        "\n",
        "class Rectangle(Shape):\n",
        "  def _init_(self, name, width, height):\n",
        "    super()._init_name(name)\n",
        "    self.width=width\n",
        "    self.height=height\n",
        "\n",
        "def calculate_area(shape):\n",
        "  if isinstance(shape, Circle):\n",
        "    return shape.radius**2*3.14\n",
        "  elif isinstance(shape, Rectangle):\n",
        "    return shape.width*shape.height\n",
        "\n",
        "circle = Circle(\"Circle\",10)\n",
        "rectangle=Rectangle(\"Rectangle\",20,30)\n",
        "\n",
        "print(calculate_area(circle))\n",
        "print(calculate_area(rectangle))\n"
      ],
      "metadata": {
        "colab": {
          "base_uri": "https://localhost:8080/",
          "height": 211
        },
        "id": "W_-kUUMGVe-2",
        "outputId": "bd858b98-710b-4f81-aa03-e25f6d443c1e"
      },
      "execution_count": 24,
      "outputs": [
        {
          "output_type": "error",
          "ename": "TypeError",
          "evalue": "Circle() takes no arguments",
          "traceback": [
            "\u001b[0;31m---------------------------------------------------------------------------\u001b[0m",
            "\u001b[0;31mTypeError\u001b[0m                                 Traceback (most recent call last)",
            "\u001b[0;32m<ipython-input-24-27a432aeef36>\u001b[0m in \u001b[0;36m<cell line: 22>\u001b[0;34m()\u001b[0m\n\u001b[1;32m     20\u001b[0m     \u001b[0;32mreturn\u001b[0m \u001b[0mshape\u001b[0m\u001b[0;34m.\u001b[0m\u001b[0mwidth\u001b[0m\u001b[0;34m*\u001b[0m\u001b[0mshape\u001b[0m\u001b[0;34m.\u001b[0m\u001b[0mheight\u001b[0m\u001b[0;34m\u001b[0m\u001b[0;34m\u001b[0m\u001b[0m\n\u001b[1;32m     21\u001b[0m \u001b[0;34m\u001b[0m\u001b[0m\n\u001b[0;32m---> 22\u001b[0;31m \u001b[0mcircle\u001b[0m \u001b[0;34m=\u001b[0m \u001b[0mCircle\u001b[0m\u001b[0;34m(\u001b[0m\u001b[0;34m\"Circle\"\u001b[0m\u001b[0;34m,\u001b[0m\u001b[0;36m10\u001b[0m\u001b[0;34m)\u001b[0m\u001b[0;34m\u001b[0m\u001b[0;34m\u001b[0m\u001b[0m\n\u001b[0m\u001b[1;32m     23\u001b[0m \u001b[0mrectangle\u001b[0m\u001b[0;34m=\u001b[0m\u001b[0mRectangle\u001b[0m\u001b[0;34m(\u001b[0m\u001b[0;34m\"Rectangle\"\u001b[0m\u001b[0;34m,\u001b[0m\u001b[0;36m20\u001b[0m\u001b[0;34m,\u001b[0m\u001b[0;36m30\u001b[0m\u001b[0;34m)\u001b[0m\u001b[0;34m\u001b[0m\u001b[0;34m\u001b[0m\u001b[0m\n\u001b[1;32m     24\u001b[0m \u001b[0;34m\u001b[0m\u001b[0m\n",
            "\u001b[0;31mTypeError\u001b[0m: Circle() takes no arguments"
          ]
        }
      ]
    },
    {
      "cell_type": "markdown",
      "source": [
        "**Question-10**\n",
        "\n",
        "Implement encapsulation in a 'BankAccount' class with private attributes for 'balance'and 'account_number'.Include methods for deposit,withdrawal,and balance inquiry."
      ],
      "metadata": {
        "id": "JpcjNSXTEKDr"
      }
    },
    {
      "cell_type": "code",
      "source": [
        "class BankAccount:\n",
        "\n",
        "  def __init__(self,balance):\n",
        "    self._balance=balance\n",
        "  def deposit(self,amount):\n",
        "    self._balance=self._balance+amount\n",
        "  def withdrawal(self,amount):\n",
        "    if self._balance>=amount:\n",
        "      self._balance=self._balance-amount\n",
        "      return True\n",
        "    else:\n",
        "      return False\n",
        "    def get_balance(self):\n",
        "      return self._balance"
      ],
      "metadata": {
        "id": "zi8U8bGaEm40"
      },
      "execution_count": null,
      "outputs": []
    },
    {
      "cell_type": "code",
      "source": [
        "acc1=BankAccount(1000)"
      ],
      "metadata": {
        "colab": {
          "base_uri": "https://localhost:8080/",
          "height": 141
        },
        "id": "W6SW8R86KCAV",
        "outputId": "70a90461-f656-4193-a72c-c70b2b35fab3"
      },
      "execution_count": null,
      "outputs": [
        {
          "output_type": "error",
          "ename": "TypeError",
          "evalue": "BankAccount() takes no arguments",
          "traceback": [
            "\u001b[0;31m---------------------------------------------------------------------------\u001b[0m",
            "\u001b[0;31mTypeError\u001b[0m                                 Traceback (most recent call last)",
            "\u001b[0;32m<ipython-input-39-0d18274f9566>\u001b[0m in \u001b[0;36m<cell line: 1>\u001b[0;34m()\u001b[0m\n\u001b[0;32m----> 1\u001b[0;31m \u001b[0macc1\u001b[0m\u001b[0;34m=\u001b[0m\u001b[0mBankAccount\u001b[0m\u001b[0;34m(\u001b[0m\u001b[0;36m1000\u001b[0m\u001b[0;34m)\u001b[0m\u001b[0;34m\u001b[0m\u001b[0;34m\u001b[0m\u001b[0m\n\u001b[0m",
            "\u001b[0;31mTypeError\u001b[0m: BankAccount() takes no arguments"
          ]
        }
      ]
    },
    {
      "cell_type": "code",
      "source": [
        "acc1.get__balance()"
      ],
      "metadata": {
        "colab": {
          "base_uri": "https://localhost:8080/",
          "height": 141
        },
        "id": "xDTbL1O5KMoG",
        "outputId": "158689c1-74c6-45ce-b995-7f01a696988d"
      },
      "execution_count": null,
      "outputs": [
        {
          "output_type": "error",
          "ename": "AttributeError",
          "evalue": "'BankAccount' object has no attribute 'get_balance'",
          "traceback": [
            "\u001b[0;31m---------------------------------------------------------------------------\u001b[0m",
            "\u001b[0;31mAttributeError\u001b[0m                            Traceback (most recent call last)",
            "\u001b[0;32m<ipython-input-33-2bd919c97f3d>\u001b[0m in \u001b[0;36m<cell line: 1>\u001b[0;34m()\u001b[0m\n\u001b[0;32m----> 1\u001b[0;31m \u001b[0macc1\u001b[0m\u001b[0;34m.\u001b[0m\u001b[0mget_balance\u001b[0m\u001b[0;34m(\u001b[0m\u001b[0;34m)\u001b[0m\u001b[0;34m\u001b[0m\u001b[0;34m\u001b[0m\u001b[0m\n\u001b[0m",
            "\u001b[0;31mAttributeError\u001b[0m: 'BankAccount' object has no attribute 'get_balance'"
          ]
        }
      ]
    },
    {
      "cell_type": "markdown",
      "source": [
        "**Question-11**\n",
        "\n",
        "Write a class that overrides the'__str__' and'__add__' magic method.What will these methods allow you to do?"
      ],
      "metadata": {
        "id": "lRbGW4HgK2au"
      }
    },
    {
      "cell_type": "markdown",
      "source": [
        "**Answer**--Dunder/Magic/Special method allow us to create custom objects."
      ],
      "metadata": {
        "id": "4Dac1RMmLaXv"
      }
    },
    {
      "cell_type": "code",
      "source": [
        "a='pw'\n",
        "b='skills'\n",
        "a+b"
      ],
      "metadata": {
        "colab": {
          "base_uri": "https://localhost:8080/",
          "height": 36
        },
        "id": "1t1rT7UONPP9",
        "outputId": "2ce470a9-24b7-4529-fee5-3eeb2858cef8"
      },
      "execution_count": null,
      "outputs": [
        {
          "output_type": "execute_result",
          "data": {
            "text/plain": [
              "'pwskills'"
            ],
            "application/vnd.google.colaboratory.intrinsic+json": {
              "type": "string"
            }
          },
          "metadata": {},
          "execution_count": 35
        }
      ]
    },
    {
      "cell_type": "code",
      "source": [
        "a.__add__(b)#dunder method associated with strings"
      ],
      "metadata": {
        "colab": {
          "base_uri": "https://localhost:8080/",
          "height": 36
        },
        "id": "o3M4l0iVNxFO",
        "outputId": "767a5127-cb01-49fe-cac1-c89e41c3a470"
      },
      "execution_count": null,
      "outputs": [
        {
          "output_type": "execute_result",
          "data": {
            "text/plain": [
              "'pwskills'"
            ],
            "application/vnd.google.colaboratory.intrinsic+json": {
              "type": "string"
            }
          },
          "metadata": {},
          "execution_count": 38
        }
      ]
    },
    {
      "cell_type": "markdown",
      "source": [
        "**Question-12**\n",
        "\n",
        "Create a decorator that measures and prints the execution time of a function."
      ],
      "metadata": {
        "id": "psO_Lh-qOnt-"
      }
    },
    {
      "cell_type": "code",
      "source": [
        "import time\n",
        "def timer_decorator(func):\n",
        "  def timer():\n",
        "    start= time.time()\n",
        "    func()\n",
        "    end= time.time()\n",
        "    print(\"The time for executing the code\",end-start)\n",
        "  return timer\n",
        "\n",
        "def func_test():\n",
        "  print(11*1000)"
      ],
      "metadata": {
        "id": "FlBHFiReYj6c"
      },
      "execution_count": null,
      "outputs": []
    },
    {
      "cell_type": "code",
      "source": [
        "func_test()"
      ],
      "metadata": {
        "colab": {
          "base_uri": "https://localhost:8080/"
        },
        "id": "I5kxeYR5Zn9c",
        "outputId": "a23c531f-5c76-4ee4-cf36-add92948211a"
      },
      "execution_count": null,
      "outputs": [
        {
          "output_type": "stream",
          "name": "stdout",
          "text": [
            "11000\n"
          ]
        }
      ]
    },
    {
      "cell_type": "code",
      "source": [
        "def func_test():\n",
        "  print(110000*1100)\n",
        "func_test()"
      ],
      "metadata": {
        "colab": {
          "base_uri": "https://localhost:8080/"
        },
        "id": "8FurTOOsalB9",
        "outputId": "6cfe6985-9767-4fa2-9822-67d3901cc971"
      },
      "execution_count": null,
      "outputs": [
        {
          "output_type": "stream",
          "name": "stdout",
          "text": [
            "121000000\n"
          ]
        }
      ]
    },
    {
      "cell_type": "markdown",
      "source": [
        "**Question-13**\n",
        "\n",
        "Explain the concept of the Diamond Problem in multiple inheritance.How does Python resolve it."
      ],
      "metadata": {
        "id": "3tdYnAOMG694"
      }
    },
    {
      "cell_type": "markdown",
      "source": [
        "Explanation-Diamond problem refers to an ambihuit that arises when two class2 and class3 inherit from a superclass Class1 and Class4 inherits from both class2 and class3.If there is a method \"m\" which is an overridden method in one of class2 and class3 or both then the ambiguity arises which of the method\"m\" class4 should inherit.\n",
        "\n",
        "\n",
        "![sdiamond method image.png](data:image/png;base64,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)"
      ],
      "metadata": {
        "id": "MRIahLiUG-_u"
      }
    },
    {
      "cell_type": "code",
      "source": [
        "#resolution of diamond problem by MRO method\n",
        "class A:\n",
        "  def m(self):\n",
        "    print(\"m of A called\")\n",
        "\n",
        "class B(A):\n",
        "  def _m(self):\n",
        "    print(\"m of B called\")\n",
        "  def m(self):\n",
        "    self._m()\n",
        "    A.m(self)\n",
        "\n",
        "class C(A):\n",
        "  def _m(self):\n",
        "    print(\"m of C called\")\n",
        "  def m(self):\n",
        "    self._m()\n",
        "    A.m(self)\n",
        "\n",
        "class D(B,C):\n",
        "  def m(self):\n",
        "    print(\"m of D called\")\n",
        "    B._m(self)\n",
        "    C._m(self)\n",
        "    A.m(self)\n",
        "\n",
        "x= D()\n",
        "x.m()"
      ],
      "metadata": {
        "colab": {
          "base_uri": "https://localhost:8080/"
        },
        "id": "y0STA3kLIXXv",
        "outputId": "2ab571bc-31fc-491c-ae96-5a6ad55b0236"
      },
      "execution_count": 11,
      "outputs": [
        {
          "output_type": "stream",
          "name": "stdout",
          "text": [
            "m of D called\n",
            "m of B called\n",
            "m of C called\n",
            "m of A called\n"
          ]
        }
      ]
    },
    {
      "cell_type": "markdown",
      "source": [
        "In the above example the optimal way to solve the problem we checked,which is the super pythonic way."
      ],
      "metadata": {
        "id": "ZQ6pmzP5NT5Q"
      }
    },
    {
      "cell_type": "markdown",
      "source": [
        "**Question-14**\n",
        "\n",
        "Write a class method that keeps track of the number of instances created from a class."
      ],
      "metadata": {
        "id": "o0gSmssLNiNg"
      }
    },
    {
      "cell_type": "code",
      "source": [
        "class pwskills:\n",
        "  counter=0   #used to print the number of instances of a class\n",
        "  #constructor of pwskills class\n",
        "  def __init__(self):\n",
        "    #increament\n",
        "    pwskills.counter +=1\n",
        "\n",
        "#objects or instances of pwskills class\n",
        "p1=pwskills()\n",
        "p2=pwskills()\n",
        "p3=pwskills()\n",
        "print(pwskills.counter)\n"
      ],
      "metadata": {
        "colab": {
          "base_uri": "https://localhost:8080/"
        },
        "id": "6XLXZ8aQOVxu",
        "outputId": "c6d65510-b6ab-4a84-c20d-9b278e8da413"
      },
      "execution_count": 12,
      "outputs": [
        {
          "output_type": "stream",
          "name": "stdout",
          "text": [
            "3\n"
          ]
        }
      ]
    },
    {
      "cell_type": "markdown",
      "source": [
        "**Question-15**\n",
        "\n",
        "Implement a static method in a class that checks if a given year is a leap year."
      ],
      "metadata": {
        "id": "aSshN-vuPErA"
      }
    },
    {
      "cell_type": "code",
      "source": [
        "def is_leap_year(year):\n",
        "  if year % 4==0:\n",
        "    if year % 100==0:\n",
        "      if year %400==0:\n",
        "        return True\n",
        "      else:\n",
        "         return False\n",
        "    else:\n",
        "       return True\n",
        "  else:\n",
        "    return False\n",
        "\n",
        "from datetime import datetime\n",
        "is_leap_year(datetime.now().year)\n",
        "is_leap_year(2016)\n",
        "is_leap_year(2000)\n"
      ],
      "metadata": {
        "colab": {
          "base_uri": "https://localhost:8080/"
        },
        "id": "NAdUq49ZUBkn",
        "outputId": "a4a373ee-feab-4f7b-871a-3aefc89dc2c6"
      },
      "execution_count": 22,
      "outputs": [
        {
          "output_type": "execute_result",
          "data": {
            "text/plain": [
              "True"
            ]
          },
          "metadata": {},
          "execution_count": 22
        }
      ]
    }
  ]
}